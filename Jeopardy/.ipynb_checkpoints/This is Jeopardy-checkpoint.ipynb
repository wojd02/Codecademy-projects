{
 "cells": [
  {
   "cell_type": "markdown",
   "metadata": {},
   "source": [
    "# This is Jeopardy!"
   ]
  },
  {
   "cell_type": "markdown",
   "metadata": {},
   "source": [
    "#### Overview"
   ]
  },
  {
   "cell_type": "markdown",
   "metadata": {},
   "source": [
    "This project is slightly different than others you have encountered thus far. Instead of a step-by-step tutorial, this project contains a series of open-ended requirements which describe the project you'll be building. There are many possible ways to correctly fulfill all of these requirements, and you should expect to use the internet, Codecademy, and/or other resources when you encounter a problem that you cannot easily solve."
   ]
  },
  {
   "cell_type": "markdown",
   "metadata": {},
   "source": [
    "#### Project Goals"
   ]
  },
  {
   "cell_type": "markdown",
   "metadata": {},
   "source": [
    "You will work to write several functions that investigate a dataset of _Jeopardy!_ questions and answers. Filter the dataset for topics that you're interested in, compute the average difficulty of those questions, and train to become the next Jeopardy champion!"
   ]
  },
  {
   "cell_type": "markdown",
   "metadata": {},
   "source": [
    "## Prerequisites"
   ]
  },
  {
   "cell_type": "markdown",
   "metadata": {},
   "source": [
    "In order to complete this project, you should have completed the Pandas lessons in the <a href=\"https://www.codecademy.com/learn/paths/analyze-data-with-python\">Analyze Data with Python Skill Path</a>. You can also find those lessons in the <a href=\"https://www.codecademy.com/learn/data-processing-pandas\">Data Analysis with Pandas course</a> or the <a href=\"https://www.codecademy.com/learn/paths/data-science/\">Data Scientist Career Path</a>.\n",
    "\n",
    "Finally, the <a href=\"https://www.codecademy.com/learn/practical-data-cleaning\">Practical Data Cleaning</a> course may also be helpful."
   ]
  },
  {
   "cell_type": "markdown",
   "metadata": {},
   "source": [
    "## Project Requirements"
   ]
  },
  {
   "cell_type": "markdown",
   "metadata": {},
   "source": [
    "1. We've provided a csv file containing data about the game show _Jeopardy!_ in a file named `jeopardy.csv`. Load the data into a DataFrame and investigate its contents. Try to print out specific columns.\n",
    "\n",
    "   Note that in order to make this project as \"real-world\" as possible, we haven't modified the data at all - we're giving it to you exactly how we found it. As a result, this data isn't as \"clean\" as the datasets you normally find on Codecademy. More specifically, there's something odd about the column names. After you figure out the problem with the column names, you may want to rename them to make your life easier for the rest of the project.\n",
    "   \n",
    "   In order to display the full contents of a column, we've added this line of code for you:\n",
    "   \n",
    "   ```py\n",
    "   pd.set_option('display.max_colwidth', None)\n",
    "   ```"
   ]
  },
  {
   "cell_type": "code",
   "execution_count": 1,
   "metadata": {},
   "outputs": [
    {
     "data": {
      "text/html": [
       "<div>\n",
       "<style scoped>\n",
       "    .dataframe tbody tr th:only-of-type {\n",
       "        vertical-align: middle;\n",
       "    }\n",
       "\n",
       "    .dataframe tbody tr th {\n",
       "        vertical-align: top;\n",
       "    }\n",
       "\n",
       "    .dataframe thead th {\n",
       "        text-align: right;\n",
       "    }\n",
       "</style>\n",
       "<table border=\"1\" class=\"dataframe\">\n",
       "  <thead>\n",
       "    <tr style=\"text-align: right;\">\n",
       "      <th></th>\n",
       "      <th>Show Number</th>\n",
       "      <th>Air Date</th>\n",
       "      <th>Round</th>\n",
       "      <th>Category</th>\n",
       "      <th>Value</th>\n",
       "      <th>Question</th>\n",
       "      <th>Answer</th>\n",
       "    </tr>\n",
       "  </thead>\n",
       "  <tbody>\n",
       "    <tr>\n",
       "      <th>0</th>\n",
       "      <td>4680</td>\n",
       "      <td>2004-1...</td>\n",
       "      <td>Jeopardy!</td>\n",
       "      <td>HISTORY</td>\n",
       "      <td>$200</td>\n",
       "      <td>For th...</td>\n",
       "      <td>Copern...</td>\n",
       "    </tr>\n",
       "    <tr>\n",
       "      <th>1</th>\n",
       "      <td>4680</td>\n",
       "      <td>2004-1...</td>\n",
       "      <td>Jeopardy!</td>\n",
       "      <td>ESPN's...</td>\n",
       "      <td>$200</td>\n",
       "      <td>No. 2:...</td>\n",
       "      <td>Jim Th...</td>\n",
       "    </tr>\n",
       "    <tr>\n",
       "      <th>2</th>\n",
       "      <td>4680</td>\n",
       "      <td>2004-1...</td>\n",
       "      <td>Jeopardy!</td>\n",
       "      <td>EVERYB...</td>\n",
       "      <td>$200</td>\n",
       "      <td>The ci...</td>\n",
       "      <td>Arizona</td>\n",
       "    </tr>\n",
       "    <tr>\n",
       "      <th>3</th>\n",
       "      <td>4680</td>\n",
       "      <td>2004-1...</td>\n",
       "      <td>Jeopardy!</td>\n",
       "      <td>THE CO...</td>\n",
       "      <td>$200</td>\n",
       "      <td>In 196...</td>\n",
       "      <td>McDona...</td>\n",
       "    </tr>\n",
       "    <tr>\n",
       "      <th>4</th>\n",
       "      <td>4680</td>\n",
       "      <td>2004-1...</td>\n",
       "      <td>Jeopardy!</td>\n",
       "      <td>EPITAP...</td>\n",
       "      <td>$200</td>\n",
       "      <td>Signer...</td>\n",
       "      <td>John A...</td>\n",
       "    </tr>\n",
       "  </tbody>\n",
       "</table>\n",
       "</div>"
      ],
      "text/plain": [
       "   Show Number   Air Date      Round   Category  Value   Question     Answer\n",
       "0       4680    2004-1...  Jeopardy!    HISTORY   $200  For th...  Copern...\n",
       "1       4680    2004-1...  Jeopardy!  ESPN's...   $200  No. 2:...  Jim Th...\n",
       "2       4680    2004-1...  Jeopardy!  EVERYB...   $200  The ci...    Arizona\n",
       "3       4680    2004-1...  Jeopardy!  THE CO...   $200  In 196...  McDona...\n",
       "4       4680    2004-1...  Jeopardy!  EPITAP...   $200  Signer...  John A..."
      ]
     },
     "metadata": {},
     "output_type": "display_data"
    },
    {
     "name": "stdout",
     "output_type": "stream",
     "text": [
      "\n"
     ]
    },
    {
     "data": {
      "text/html": [
       "<div>\n",
       "<style scoped>\n",
       "    .dataframe tbody tr th:only-of-type {\n",
       "        vertical-align: middle;\n",
       "    }\n",
       "\n",
       "    .dataframe tbody tr th {\n",
       "        vertical-align: top;\n",
       "    }\n",
       "\n",
       "    .dataframe thead th {\n",
       "        text-align: right;\n",
       "    }\n",
       "</style>\n",
       "<table border=\"1\" class=\"dataframe\">\n",
       "  <thead>\n",
       "    <tr style=\"text-align: right;\">\n",
       "      <th></th>\n",
       "      <th>show_number</th>\n",
       "      <th>air_date</th>\n",
       "      <th>round</th>\n",
       "      <th>category</th>\n",
       "      <th>value</th>\n",
       "      <th>question</th>\n",
       "      <th>answer</th>\n",
       "    </tr>\n",
       "  </thead>\n",
       "  <tbody>\n",
       "    <tr>\n",
       "      <th>0</th>\n",
       "      <td>4680</td>\n",
       "      <td>2004-1...</td>\n",
       "      <td>Jeopardy!</td>\n",
       "      <td>HISTORY</td>\n",
       "      <td>$200</td>\n",
       "      <td>For th...</td>\n",
       "      <td>Copern...</td>\n",
       "    </tr>\n",
       "    <tr>\n",
       "      <th>1</th>\n",
       "      <td>4680</td>\n",
       "      <td>2004-1...</td>\n",
       "      <td>Jeopardy!</td>\n",
       "      <td>ESPN's...</td>\n",
       "      <td>$200</td>\n",
       "      <td>No. 2:...</td>\n",
       "      <td>Jim Th...</td>\n",
       "    </tr>\n",
       "    <tr>\n",
       "      <th>2</th>\n",
       "      <td>4680</td>\n",
       "      <td>2004-1...</td>\n",
       "      <td>Jeopardy!</td>\n",
       "      <td>EVERYB...</td>\n",
       "      <td>$200</td>\n",
       "      <td>The ci...</td>\n",
       "      <td>Arizona</td>\n",
       "    </tr>\n",
       "    <tr>\n",
       "      <th>3</th>\n",
       "      <td>4680</td>\n",
       "      <td>2004-1...</td>\n",
       "      <td>Jeopardy!</td>\n",
       "      <td>THE CO...</td>\n",
       "      <td>$200</td>\n",
       "      <td>In 196...</td>\n",
       "      <td>McDona...</td>\n",
       "    </tr>\n",
       "    <tr>\n",
       "      <th>4</th>\n",
       "      <td>4680</td>\n",
       "      <td>2004-1...</td>\n",
       "      <td>Jeopardy!</td>\n",
       "      <td>EPITAP...</td>\n",
       "      <td>$200</td>\n",
       "      <td>Signer...</td>\n",
       "      <td>John A...</td>\n",
       "    </tr>\n",
       "    <tr>\n",
       "      <th>5</th>\n",
       "      <td>4680</td>\n",
       "      <td>2004-1...</td>\n",
       "      <td>Jeopardy!</td>\n",
       "      <td>3-LETT...</td>\n",
       "      <td>$200</td>\n",
       "      <td>In the...</td>\n",
       "      <td>the ant</td>\n",
       "    </tr>\n",
       "    <tr>\n",
       "      <th>6</th>\n",
       "      <td>4680</td>\n",
       "      <td>2004-1...</td>\n",
       "      <td>Jeopardy!</td>\n",
       "      <td>HISTORY</td>\n",
       "      <td>$400</td>\n",
       "      <td>Built ...</td>\n",
       "      <td>the Ap...</td>\n",
       "    </tr>\n",
       "    <tr>\n",
       "      <th>7</th>\n",
       "      <td>4680</td>\n",
       "      <td>2004-1...</td>\n",
       "      <td>Jeopardy!</td>\n",
       "      <td>ESPN's...</td>\n",
       "      <td>$400</td>\n",
       "      <td>No. 8:...</td>\n",
       "      <td>Michae...</td>\n",
       "    </tr>\n",
       "    <tr>\n",
       "      <th>8</th>\n",
       "      <td>4680</td>\n",
       "      <td>2004-1...</td>\n",
       "      <td>Jeopardy!</td>\n",
       "      <td>EVERYB...</td>\n",
       "      <td>$400</td>\n",
       "      <td>In the...</td>\n",
       "      <td>Washin...</td>\n",
       "    </tr>\n",
       "    <tr>\n",
       "      <th>9</th>\n",
       "      <td>4680</td>\n",
       "      <td>2004-1...</td>\n",
       "      <td>Jeopardy!</td>\n",
       "      <td>THE CO...</td>\n",
       "      <td>$400</td>\n",
       "      <td>This h...</td>\n",
       "      <td>Crate ...</td>\n",
       "    </tr>\n",
       "    <tr>\n",
       "      <th>10</th>\n",
       "      <td>4680</td>\n",
       "      <td>2004-1...</td>\n",
       "      <td>Jeopardy!</td>\n",
       "      <td>EPITAP...</td>\n",
       "      <td>$400</td>\n",
       "      <td>\"And a...</td>\n",
       "      <td>Jackie...</td>\n",
       "    </tr>\n",
       "    <tr>\n",
       "      <th>11</th>\n",
       "      <td>4680</td>\n",
       "      <td>2004-1...</td>\n",
       "      <td>Jeopardy!</td>\n",
       "      <td>3-LETT...</td>\n",
       "      <td>$400</td>\n",
       "      <td>Cows r...</td>\n",
       "      <td>the cud</td>\n",
       "    </tr>\n",
       "    <tr>\n",
       "      <th>12</th>\n",
       "      <td>4680</td>\n",
       "      <td>2004-1...</td>\n",
       "      <td>Jeopardy!</td>\n",
       "      <td>HISTORY</td>\n",
       "      <td>$600</td>\n",
       "      <td>In 100...</td>\n",
       "      <td>Ceylon...</td>\n",
       "    </tr>\n",
       "    <tr>\n",
       "      <th>13</th>\n",
       "      <td>4680</td>\n",
       "      <td>2004-1...</td>\n",
       "      <td>Jeopardy!</td>\n",
       "      <td>ESPN's...</td>\n",
       "      <td>$600</td>\n",
       "      <td>No. 1:...</td>\n",
       "      <td>Jim Brown</td>\n",
       "    </tr>\n",
       "    <tr>\n",
       "      <th>14</th>\n",
       "      <td>4680</td>\n",
       "      <td>2004-1...</td>\n",
       "      <td>Jeopardy!</td>\n",
       "      <td>EVERYB...</td>\n",
       "      <td>$600</td>\n",
       "      <td>On Jun...</td>\n",
       "      <td>the UV...</td>\n",
       "    </tr>\n",
       "  </tbody>\n",
       "</table>\n",
       "</div>"
      ],
      "text/plain": [
       "    show_number   air_date      round   category value   question     answer\n",
       "0        4680    2004-1...  Jeopardy!    HISTORY  $200  For th...  Copern...\n",
       "1        4680    2004-1...  Jeopardy!  ESPN's...  $200  No. 2:...  Jim Th...\n",
       "2        4680    2004-1...  Jeopardy!  EVERYB...  $200  The ci...    Arizona\n",
       "3        4680    2004-1...  Jeopardy!  THE CO...  $200  In 196...  McDona...\n",
       "4        4680    2004-1...  Jeopardy!  EPITAP...  $200  Signer...  John A...\n",
       "5        4680    2004-1...  Jeopardy!  3-LETT...  $200  In the...    the ant\n",
       "6        4680    2004-1...  Jeopardy!    HISTORY  $400  Built ...  the Ap...\n",
       "7        4680    2004-1...  Jeopardy!  ESPN's...  $400  No. 8:...  Michae...\n",
       "8        4680    2004-1...  Jeopardy!  EVERYB...  $400  In the...  Washin...\n",
       "9        4680    2004-1...  Jeopardy!  THE CO...  $400  This h...  Crate ...\n",
       "10       4680    2004-1...  Jeopardy!  EPITAP...  $400  \"And a...  Jackie...\n",
       "11       4680    2004-1...  Jeopardy!  3-LETT...  $400  Cows r...    the cud\n",
       "12       4680    2004-1...  Jeopardy!    HISTORY  $600  In 100...  Ceylon...\n",
       "13       4680    2004-1...  Jeopardy!  ESPN's...  $600  No. 1:...  Jim Brown\n",
       "14       4680    2004-1...  Jeopardy!  EVERYB...  $600  On Jun...  the UV..."
      ]
     },
     "metadata": {},
     "output_type": "display_data"
    }
   ],
   "source": [
    "import pandas as pd\n",
    "pd.set_option('display.max_colwidth', 10)\n",
    "jeopardy = pd.read_csv('jeopardy.csv')\n",
    "display(jeopardy.head())\n",
    "\n",
    "print()\n",
    "\n",
    "#rename the columns\n",
    "jeopardy.rename(columns={'Show Number': 'show_number', ' Air Date': 'air_date', ' Round': 'round', ' Category': 'category', ' Value': 'value', ' Question': 'question', ' Answer': 'answer'}, inplace=True)\n",
    "display(jeopardy.head(15))"
   ]
  },
  {
   "cell_type": "markdown",
   "metadata": {},
   "source": [
    "2. Write a function that filters the dataset for questions that contains all of the words in a list of words. For example, when the list `[\"King\", \"England\"]` was passed to our function, the function returned a DataFrame of 49 rows. Every row had the strings `\"King\"` and `\"England\"` somewhere in its `\" Question\"`.\n",
    "\n",
    "   Test your function by printing out the column containing the question of each row of the dataset."
   ]
  },
  {
   "cell_type": "code",
   "execution_count": 3,
   "metadata": {},
   "outputs": [],
   "source": [
    "words_filter = lambda word_list: jeopardy[jeopardy.question.apply(lambda quest: any(word.lower() in quest.lower().split() for word in word_list))]"
   ]
  },
  {
   "cell_type": "markdown",
   "metadata": {},
   "source": [
    "3. Test your original function with a few different sets of words to try to find some ways your function breaks. Edit your function so it is more robust.\n",
    "\n",
    "   For example, think about capitalization. We probably want to find questions that contain the word `\"King\"` or `\"king\"`.\n",
    "   \n",
    "   You may also want to check to make sure you don't find rows that contain substrings of your given words. For example, our function found a question that didn't contain the word `\"king\"`, however it did contain the word `\"viking\"` &mdash; it found the `\"king\"` inside `\"viking\"`. Note that this also comes with some drawbacks &mdash; you would no longer find questions that contained words like `\"England's\"`."
   ]
  },
  {
   "cell_type": "code",
   "execution_count": 4,
   "metadata": {},
   "outputs": [
    {
     "name": "stdout",
     "output_type": "stream",
     "text": [
      "2790\n"
     ]
    }
   ],
   "source": [
    "words = ['King', 'England']\n",
    "test_words = words_filter(words)\n",
    "print(len(test_words))"
   ]
  },
  {
   "cell_type": "markdown",
   "metadata": {},
   "source": [
    "4. We may want to eventually compute aggregate statistics, like `.mean()` on the `\" Value\"` column. But right now, the values in that column are strings. Convert the`\" Value\"` column to floats. If you'd like to, you can create a new column with float values.\n",
    "\n",
    "   While most of the values in the `\" Value\"` column represent a dollar amount as a string, note that some do not &mdash; these values will need to be handled differently!\n",
    "\n",
    "   Now that you can filter the dataset of question, use your new column that contains the float values of each question to find the \"difficulty\" of certain topics. For example, what is the average value of questions that contain the word `\"King\"`?\n",
    "   \n",
    "   Make sure to use the dataset that contains the float values as the dataset you use in your filtering function."
   ]
  },
  {
   "cell_type": "code",
   "execution_count": 5,
   "metadata": {},
   "outputs": [
    {
     "name": "stdout",
     "output_type": "stream",
     "text": [
      "0    200.0\n",
      "1    200.0\n",
      "2    200.0\n",
      "3    200.0\n",
      "4    200.0\n",
      "5    200.0\n",
      "6    400.0\n",
      "7    400.0\n",
      "8    400.0\n",
      "9    400.0\n",
      "Name: value, dtype: float64\n"
     ]
    }
   ],
   "source": [
    "jeopardy.value = jeopardy.value.apply(lambda row: row.replace('$', '').replace(',','') if row != 'no value' else 0)\n",
    "jeopardy.value = jeopardy.value.apply(lambda row: float(row))\n",
    "print(jeopardy.value.head(10))"
   ]
  },
  {
   "cell_type": "markdown",
   "metadata": {},
   "source": [
    "5. Write a function that returns the count of unique answers to all of the questions in a dataset. For example, after filtering the entire dataset to only questions containing the word `\"King\"`, we could then find all of the unique answers to those questions. The answer \"Henry VIII\" appeared 55 times and was the most common answer."
   ]
  },
  {
   "cell_type": "code",
   "execution_count": 6,
   "metadata": {},
   "outputs": [
    {
     "name": "stdout",
     "output_type": "stream",
     "text": [
      "2075\n",
      "answer\n",
      "Henry VIII     41\n",
      "Sweden         24\n",
      "Solomon        23\n",
      "Norway         22\n",
      "Richard III    21\n",
      "               ..\n",
      "High priest     1\n",
      "Farouk          1\n",
      "turn            1\n",
      "brotherhood     1\n",
      "Aragon          1\n",
      "Name: count, Length: 1165, dtype: int64\n"
     ]
    }
   ],
   "source": [
    "words = ['King']\n",
    "test_words = words_filter(words)\n",
    "print(len(test_words))\n",
    "print(test_words.answer.value_counts())"
   ]
  },
  {
   "cell_type": "markdown",
   "metadata": {},
   "source": [
    "6. Explore from here! This is an incredibly rich dataset, and there are so many interesting things to discover. There are a few columns that we haven't even started looking at yet. Here are some ideas on ways to continue working with this data:\n",
    "\n",
    " * Investigate the ways in which questions change over time by filtering by the date. How many questions from the 90s use the word `\"Computer\"` compared to questions from the 2000s?\n",
    " * Is there a connection between the round and the category? Are you more likely to find certain categories, like `\"Literature\"` in Single Jeopardy or Double Jeopardy?\n",
    " * Build a system to quiz yourself. Grab random questions, and use the <a href=\"https://docs.python.org/3/library/functions.html#input\">input</a> function to get a response from the user. Check to see if that response was right or wrong."
   ]
  },
  {
   "cell_type": "code",
   "execution_count": 7,
   "metadata": {},
   "outputs": [
    {
     "name": "stdout",
     "output_type": "stream",
     "text": [
      "year\n",
      "1984     1\n",
      "1986     1\n",
      "1987     1\n",
      "1988     1\n",
      "1989     1\n",
      "1990     3\n",
      "1991     1\n",
      "1993     1\n",
      "1995     2\n",
      "1996     4\n",
      "1997    16\n",
      "1998    15\n",
      "1999    24\n",
      "2000    22\n",
      "2001    11\n",
      "2002     9\n",
      "2003    15\n",
      "2004    17\n",
      "2005    23\n",
      "2006    26\n",
      "2007    28\n",
      "2008    21\n",
      "2009    25\n",
      "2010    25\n",
      "2011    18\n",
      "2012     4\n",
      "Name: answer, dtype: int64\n",
      "\n",
      "        category  value  count\n",
      "75929  LITERA...  400.0     93\n",
      "75930  LITERA...  200.0     82\n"
     ]
    }
   ],
   "source": [
    "#1\n",
    "words = ['Computer']\n",
    "jeopardy.air_date = pd.to_datetime(jeopardy.air_date)\n",
    "jeopardy['year'] = jeopardy['air_date'].dt.year\n",
    "filter_word_computer = words_filter(words)\n",
    "group_year = filter_word_computer.groupby('year').answer.count()\n",
    "print(group_year)\n",
    "\n",
    "print()\n",
    "\n",
    "#2\n",
    "group_by_round = jeopardy.groupby('category').value.value_counts().reset_index(name='count')\n",
    "search = group_by_round[(group_by_round['value'] == 200.0) | (group_by_round['value'] == 400.0)]\n",
    "result = search[search['category'] == 'LITERATURE']\n",
    "print(result)"
   ]
  },
  {
   "cell_type": "markdown",
   "metadata": {},
   "source": [
    "## Solution"
   ]
  },
  {
   "cell_type": "markdown",
   "metadata": {},
   "source": [
    "7. Compare your program to our <a href=\"https://content.codecademy.com/PRO/independent-practice-projects/jeopardy/jeopardy_solution.zip\">sample solution code</a> - remember, that your program might look different from ours (and probably will) and that's okay!"
   ]
  },
  {
   "cell_type": "markdown",
   "metadata": {},
   "source": [
    "8. Great work! Visit <a href=\"https://discuss.codecademy.com/t/this-is-jeopardy-challenge-project-python-pandas/462365\">our forums</a> to compare your project to our sample solution code. You can also learn how to host your own solution on GitHub so you can share it with other learners! Your solution might look different from ours, and that's okay! There are multiple ways to solve these projects, and you'll learn more by seeing others' code."
   ]
  },
  {
   "cell_type": "code",
   "execution_count": null,
   "metadata": {},
   "outputs": [],
   "source": []
  }
 ],
 "metadata": {
  "kernelspec": {
   "display_name": "Python 3 (ipykernel)",
   "language": "python",
   "name": "python3"
  },
  "language_info": {
   "codemirror_mode": {
    "name": "ipython",
    "version": 3
   },
   "file_extension": ".py",
   "mimetype": "text/x-python",
   "name": "python",
   "nbconvert_exporter": "python",
   "pygments_lexer": "ipython3",
   "version": "3.11.14"
  }
 },
 "nbformat": 4,
 "nbformat_minor": 4
}
